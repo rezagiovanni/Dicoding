{
  "nbformat": 4,
  "nbformat_minor": 0,
  "metadata": {
    "colab": {
      "name": "ATTEMPT 2 - TEMPLATE-DICODING-RPS-CNN.ipynb",
      "provenance": [],
      "collapsed_sections": [
        "5stCWDqLNVTM",
        "uLdHLqHNNdU9",
        "3mR6SUbHNlIM",
        "iAz1y96sNw1U",
        "BeEymvDRNz6Q",
        "GWC0qlEpN5Cl"
      ]
    },
    "kernelspec": {
      "name": "python3",
      "display_name": "Python 3"
    }
  },
  "cells": [
    {
      "cell_type": "markdown",
      "metadata": {
        "id": "NimCPJHPmUhG",
        "colab_type": "text"
      },
      "source": [
        "## NAMA : Muhammad Reza Giovanni"
      ]
    },
    {
      "cell_type": "markdown",
      "metadata": {
        "id": "5stCWDqLNVTM",
        "colab_type": "text"
      },
      "source": [
        "# INPUT TENSORFLOW LIBRARY"
      ]
    },
    {
      "cell_type": "code",
      "metadata": {
        "id": "G4iELTw5Nc2M",
        "colab_type": "code",
        "colab": {}
      },
      "source": [
        "import tensorflow as tf"
      ],
      "execution_count": 1,
      "outputs": []
    },
    {
      "cell_type": "code",
      "metadata": {
        "id": "Bu0xL1dUOFtk",
        "colab_type": "code",
        "colab": {
          "base_uri": "https://localhost:8080/",
          "height": 0
        },
        "outputId": "d85b88fd-d480-4864-e75c-21b2839610c8"
      },
      "source": [
        "print(tf.__version__)"
      ],
      "execution_count": 2,
      "outputs": [
        {
          "output_type": "stream",
          "text": [
            "2.3.0\n"
          ],
          "name": "stdout"
        }
      ]
    },
    {
      "cell_type": "markdown",
      "metadata": {
        "id": "uLdHLqHNNdU9",
        "colab_type": "text"
      },
      "source": [
        "# IMPORT DATASET"
      ]
    },
    {
      "cell_type": "code",
      "metadata": {
        "id": "4I8OUTngNkgx",
        "colab_type": "code",
        "colab": {
          "base_uri": "https://localhost:8080/",
          "height": 196
        },
        "outputId": "6292a6bf-dd55-4251-a115-f84e74543a78"
      },
      "source": [
        "!wget --no-check-certificate \\\n",
        "  https://dicodingacademy.blob.core.windows.net/picodiploma/ml_pemula_academy/rockpaperscissors.zip \\\n",
        "  -O /content/rockpaperscissors.zip"
      ],
      "execution_count": 3,
      "outputs": [
        {
          "output_type": "stream",
          "text": [
            "--2020-09-05 18:29:10--  https://dicodingacademy.blob.core.windows.net/picodiploma/ml_pemula_academy/rockpaperscissors.zip\n",
            "Resolving dicodingacademy.blob.core.windows.net (dicodingacademy.blob.core.windows.net)... 52.239.197.36\n",
            "Connecting to dicodingacademy.blob.core.windows.net (dicodingacademy.blob.core.windows.net)|52.239.197.36|:443... connected.\n",
            "HTTP request sent, awaiting response... 200 OK\n",
            "Length: 322873683 (308M) [application/zip]\n",
            "Saving to: ‘/content/rockpaperscissors.zip’\n",
            "\n",
            "/content/rockpapers 100%[===================>] 307.92M  9.52MB/s    in 41s     \n",
            "\n",
            "2020-09-05 18:29:52 (7.55 MB/s) - ‘/content/rockpaperscissors.zip’ saved [322873683/322873683]\n",
            "\n"
          ],
          "name": "stdout"
        }
      ]
    },
    {
      "cell_type": "code",
      "metadata": {
        "id": "YlMjRxzlONNz",
        "colab_type": "code",
        "colab": {}
      },
      "source": [
        "import zipfile,os"
      ],
      "execution_count": 4,
      "outputs": []
    },
    {
      "cell_type": "code",
      "metadata": {
        "id": "5In4PhpGObCG",
        "colab_type": "code",
        "colab": {}
      },
      "source": [
        "local_zip = 'rockpaperscissors.zip'\n",
        "zip_ref = zipfile.ZipFile(local_zip, 'r')\n",
        "zip_ref.extractall('/content')\n",
        "zip_ref.close()"
      ],
      "execution_count": 5,
      "outputs": []
    },
    {
      "cell_type": "code",
      "metadata": {
        "id": "Dnj3AS0XsC-o",
        "colab_type": "code",
        "colab": {}
      },
      "source": [
        "base_dir = '/content/rockpaperscissors/rps-cv-images'"
      ],
      "execution_count": 6,
      "outputs": []
    },
    {
      "cell_type": "markdown",
      "metadata": {
        "id": "iAz1y96sNw1U",
        "colab_type": "text"
      },
      "source": [
        "# IMAGE DATA GENERATOR"
      ]
    },
    {
      "cell_type": "code",
      "metadata": {
        "id": "xFNohQkMNzOu",
        "colab_type": "code",
        "colab": {}
      },
      "source": [
        "from keras.preprocessing.image import ImageDataGenerator"
      ],
      "execution_count": 7,
      "outputs": []
    },
    {
      "cell_type": "code",
      "metadata": {
        "id": "RA5O7QFBPABu",
        "colab_type": "code",
        "colab": {
          "base_uri": "https://localhost:8080/",
          "height": 50
        },
        "outputId": "8661c36f-cbbb-4572-de1a-24abfff3b601"
      },
      "source": [
        "data = ImageDataGenerator(rescale=1./255,\n",
        "                          shear_range=0.2,\n",
        "                          horizontal_flip=True,\n",
        "                          rotation_range=20,\n",
        "                          validation_split=0.4)\n",
        "\n",
        "train_data = data.flow_from_directory(directory=base_dir,\n",
        "                                      target_size=(150, 150),\n",
        "                                      class_mode='categorical',\n",
        "                                      shuffle=True,\n",
        "                                      subset = 'training'\n",
        "                                      )\n",
        "\n",
        "val_data = data.flow_from_directory(directory=base_dir,\n",
        "                                    target_size=(150, 150),\n",
        "                                    class_mode='categorical',\n",
        "                                    subset = 'validation'\n",
        "                                    )"
      ],
      "execution_count": 8,
      "outputs": [
        {
          "output_type": "stream",
          "text": [
            "Found 1314 images belonging to 3 classes.\n",
            "Found 874 images belonging to 3 classes.\n"
          ],
          "name": "stdout"
        }
      ]
    },
    {
      "cell_type": "markdown",
      "metadata": {
        "id": "BeEymvDRNz6Q",
        "colab_type": "text"
      },
      "source": [
        "# THE MODEL"
      ]
    },
    {
      "cell_type": "code",
      "metadata": {
        "id": "9wtMnyrSXVe-",
        "colab_type": "code",
        "colab": {}
      },
      "source": [
        "from keras.models import Sequential\n",
        "from keras.layers import Conv2D, MaxPool2D, Flatten, Dropout, Dense"
      ],
      "execution_count": 9,
      "outputs": []
    },
    {
      "cell_type": "code",
      "metadata": {
        "id": "1mU-FwJ8N1sI",
        "colab_type": "code",
        "colab": {
          "base_uri": "https://localhost:8080/",
          "height": 537
        },
        "outputId": "b7b5e82e-770c-4b32-aaa7-778bd77c7eda"
      },
      "source": [
        "model = tf.keras.models.Sequential([\n",
        "    tf.keras.layers.Conv2D(16, (3,3), padding ='same', activation='relu', input_shape=(150, 150, 3)), #MENAMBAHKAN PADDING SAME PADA SETIAP CONV LAYER\n",
        "    tf.keras.layers.MaxPool2D(2, 2),\n",
        "\n",
        "    tf.keras.layers.Conv2D(32, (3,3), padding ='same', activation='relu'),\n",
        "    tf.keras.layers.MaxPool2D(2,2),\n",
        "\n",
        "    tf.keras.layers.Conv2D(64, (3,3), padding ='same', activation='relu'),\n",
        "    tf.keras.layers.MaxPool2D(2,2),\n",
        "\n",
        "    tf.keras.layers.Conv2D(64, (3,3), padding ='same', activation='relu'),\n",
        "    tf.keras.layers.MaxPool2D(2,2),\n",
        "\n",
        "    tf.keras.layers.Flatten(),\n",
        "    tf.keras.layers.Dropout(0.5),\n",
        "    tf.keras.layers.Dense(1024, activation='relu'),\n",
        "\n",
        "    tf.keras.layers.Dense(3, activation='softmax')\n",
        "])\n",
        "\n",
        "model.summary()"
      ],
      "execution_count": 10,
      "outputs": [
        {
          "output_type": "stream",
          "text": [
            "Model: \"sequential\"\n",
            "_________________________________________________________________\n",
            "Layer (type)                 Output Shape              Param #   \n",
            "=================================================================\n",
            "conv2d (Conv2D)              (None, 150, 150, 16)      448       \n",
            "_________________________________________________________________\n",
            "max_pooling2d (MaxPooling2D) (None, 75, 75, 16)        0         \n",
            "_________________________________________________________________\n",
            "conv2d_1 (Conv2D)            (None, 75, 75, 32)        4640      \n",
            "_________________________________________________________________\n",
            "max_pooling2d_1 (MaxPooling2 (None, 37, 37, 32)        0         \n",
            "_________________________________________________________________\n",
            "conv2d_2 (Conv2D)            (None, 37, 37, 64)        18496     \n",
            "_________________________________________________________________\n",
            "max_pooling2d_2 (MaxPooling2 (None, 18, 18, 64)        0         \n",
            "_________________________________________________________________\n",
            "conv2d_3 (Conv2D)            (None, 18, 18, 64)        36928     \n",
            "_________________________________________________________________\n",
            "max_pooling2d_3 (MaxPooling2 (None, 9, 9, 64)          0         \n",
            "_________________________________________________________________\n",
            "flatten (Flatten)            (None, 5184)              0         \n",
            "_________________________________________________________________\n",
            "dropout (Dropout)            (None, 5184)              0         \n",
            "_________________________________________________________________\n",
            "dense (Dense)                (None, 1024)              5309440   \n",
            "_________________________________________________________________\n",
            "dense_1 (Dense)              (None, 3)                 3075      \n",
            "=================================================================\n",
            "Total params: 5,373,027\n",
            "Trainable params: 5,373,027\n",
            "Non-trainable params: 0\n",
            "_________________________________________________________________\n"
          ],
          "name": "stdout"
        }
      ]
    },
    {
      "cell_type": "markdown",
      "metadata": {
        "id": "EREgDT-vN2YR",
        "colab_type": "text"
      },
      "source": [
        "# THE CALLBACKS"
      ]
    },
    {
      "cell_type": "code",
      "metadata": {
        "id": "Pe6cMh5HN4hm",
        "colab_type": "code",
        "colab": {}
      },
      "source": [
        "from keras.callbacks import ReduceLROnPlateau, Callback, EarlyStopping"
      ],
      "execution_count": 11,
      "outputs": []
    },
    {
      "cell_type": "code",
      "metadata": {
        "id": "lKZWLv9-RPBz",
        "colab_type": "code",
        "colab": {}
      },
      "source": [
        "# ReduceLROnPlateau CallBack\n",
        "lr_reduce = ReduceLROnPlateau(monitor='val_loss', #MENGGANTI MONITOR DARI VAL_ACC KE VAL_LOSS\n",
        "                              verbose=1, \n",
        "                              min_lr=0.000003,\n",
        "                              patience=1          #MENGGANTI PATIENCE DARI 2 MENJADI 1\n",
        ")"
      ],
      "execution_count": 12,
      "outputs": []
    },
    {
      "cell_type": "code",
      "metadata": {
        "id": "EPpFKmPUlmMK",
        "colab_type": "code",
        "colab": {}
      },
      "source": [
        "# on_epoch_end CallBack\n",
        "class myCallback(tf.keras.callbacks.Callback):\n",
        "  def on_epoch_end(self, epoch, logs={}):\n",
        "    if((logs.get('acc')>0.98) and (logs.get('val_loss')<=0.1)): \n",
        "      print(\" \")\n",
        "      print(\"(Akurasi > 98%) dan (val_loss <= 10%), maka training dihentikan\")\n",
        "      self.model.stop_training = True\n",
        "\n",
        "oee_callback = myCallback()"
      ],
      "execution_count": 13,
      "outputs": []
    },
    {
      "cell_type": "code",
      "metadata": {
        "id": "cGPRyJhjDlDh",
        "colab_type": "code",
        "colab": {}
      },
      "source": [
        "# EarlyStopping Callback\n",
        "earlystop = EarlyStopping(monitor='val_loss', \n",
        "                          patience=3, \n",
        "                          verbose=1,\n",
        ")"
      ],
      "execution_count": 14,
      "outputs": []
    },
    {
      "cell_type": "code",
      "metadata": {
        "id": "GMPu2wKflsOI",
        "colab_type": "code",
        "colab": {}
      },
      "source": [
        "callback = [lr_reduce, oee_callback, earlystop]"
      ],
      "execution_count": 15,
      "outputs": []
    },
    {
      "cell_type": "markdown",
      "metadata": {
        "id": "GWC0qlEpN5Cl",
        "colab_type": "text"
      },
      "source": [
        "# COMPILE"
      ]
    },
    {
      "cell_type": "code",
      "metadata": {
        "id": "D3eEpzmoUzE_",
        "colab_type": "code",
        "colab": {}
      },
      "source": [
        "from keras.optimizers import Adam\n",
        "from keras.losses import CategoricalCrossentropy"
      ],
      "execution_count": 16,
      "outputs": []
    },
    {
      "cell_type": "code",
      "metadata": {
        "id": "VIZQkXqXN8Zo",
        "colab_type": "code",
        "colab": {}
      },
      "source": [
        "model.compile(optimizer='adam', \n",
        "              loss='categorical_crossentropy', \n",
        "              metrics=['acc']\n",
        ")"
      ],
      "execution_count": 17,
      "outputs": []
    },
    {
      "cell_type": "markdown",
      "metadata": {
        "id": "DVUMvT9xN88u",
        "colab_type": "text"
      },
      "source": [
        "# FIT"
      ]
    },
    {
      "cell_type": "code",
      "metadata": {
        "id": "mNZtPRToN-ux",
        "colab_type": "code",
        "colab": {
          "base_uri": "https://localhost:8080/",
          "height": 813
        },
        "outputId": "c354738a-1487-4b68-9343-dc0db995aac3"
      },
      "source": [
        "hist = model.fit(train_data,\n",
        "                 epochs=25,\n",
        "                 verbose=1, \n",
        "                 callbacks=callback,\n",
        "                 validation_data=val_data\n",
        ")"
      ],
      "execution_count": 18,
      "outputs": [
        {
          "output_type": "stream",
          "text": [
            "Epoch 1/25\n",
            "42/42 [==============================] - 51s 1s/step - loss: 0.9931 - acc: 0.4680 - val_loss: 0.5906 - val_acc: 0.7254\n",
            "Epoch 2/25\n",
            "42/42 [==============================] - 49s 1s/step - loss: 0.4603 - acc: 0.8143 - val_loss: 0.4155 - val_acc: 0.8684\n",
            "Epoch 3/25\n",
            "42/42 [==============================] - 49s 1s/step - loss: 0.3038 - acc: 0.8965 - val_loss: 0.2332 - val_acc: 0.9291\n",
            "Epoch 4/25\n",
            "42/42 [==============================] - 49s 1s/step - loss: 0.2816 - acc: 0.9079 - val_loss: 0.1904 - val_acc: 0.9405\n",
            "Epoch 5/25\n",
            "42/42 [==============================] - 49s 1s/step - loss: 0.2258 - acc: 0.9216 - val_loss: 0.1745 - val_acc: 0.9416\n",
            "Epoch 6/25\n",
            "42/42 [==============================] - 49s 1s/step - loss: 0.1739 - acc: 0.9414 - val_loss: 0.1341 - val_acc: 0.9519\n",
            "Epoch 7/25\n",
            "42/42 [==============================] - ETA: 0s - loss: 0.1485 - acc: 0.9475\n",
            "Epoch 00007: ReduceLROnPlateau reducing learning rate to 0.00010000000474974513.\n",
            "42/42 [==============================] - 49s 1s/step - loss: 0.1485 - acc: 0.9475 - val_loss: 0.1375 - val_acc: 0.9634\n",
            "Epoch 8/25\n",
            "42/42 [==============================] - 49s 1s/step - loss: 0.0997 - acc: 0.9688 - val_loss: 0.0899 - val_acc: 0.9783\n",
            "Epoch 9/25\n",
            "42/42 [==============================] - ETA: 0s - loss: 0.0827 - acc: 0.9734\n",
            "Epoch 00009: ReduceLROnPlateau reducing learning rate to 1.0000000474974514e-05.\n",
            "42/42 [==============================] - 49s 1s/step - loss: 0.0827 - acc: 0.9734 - val_loss: 0.1028 - val_acc: 0.9783\n",
            "Epoch 10/25\n",
            "42/42 [==============================] - 49s 1s/step - loss: 0.0819 - acc: 0.9711 - val_loss: 0.0770 - val_acc: 0.9794\n",
            "Epoch 11/25\n",
            "42/42 [==============================] - ETA: 0s - loss: 0.0772 - acc: 0.9741\n",
            "Epoch 00011: ReduceLROnPlateau reducing learning rate to 3e-06.\n",
            "42/42 [==============================] - 50s 1s/step - loss: 0.0772 - acc: 0.9741 - val_loss: 0.0950 - val_acc: 0.9714\n",
            "Epoch 12/25\n",
            "42/42 [==============================] - 49s 1s/step - loss: 0.0829 - acc: 0.9711 - val_loss: 0.0743 - val_acc: 0.9771\n",
            "Epoch 13/25\n",
            "42/42 [==============================] - ETA: 0s - loss: 0.0801 - acc: 0.9764\n",
            "Epoch 00013: ReduceLROnPlateau reducing learning rate to 3e-06.\n",
            "42/42 [==============================] - 50s 1s/step - loss: 0.0801 - acc: 0.9764 - val_loss: 0.0806 - val_acc: 0.9794\n",
            "Epoch 14/25\n",
            "42/42 [==============================] - 49s 1s/step - loss: 0.0820 - acc: 0.9741 - val_loss: 0.0654 - val_acc: 0.9817\n",
            "Epoch 15/25\n",
            "42/42 [==============================] - ETA: 0s - loss: 0.0832 - acc: 0.9756\n",
            "Epoch 00015: ReduceLROnPlateau reducing learning rate to 3e-06.\n",
            "42/42 [==============================] - 50s 1s/step - loss: 0.0832 - acc: 0.9756 - val_loss: 0.0915 - val_acc: 0.9771\n",
            "Epoch 16/25\n",
            "42/42 [==============================] - ETA: 0s - loss: 0.0874 - acc: 0.9703\n",
            "Epoch 00016: ReduceLROnPlateau reducing learning rate to 3e-06.\n",
            "42/42 [==============================] - 49s 1s/step - loss: 0.0874 - acc: 0.9703 - val_loss: 0.1022 - val_acc: 0.9737\n",
            "Epoch 17/25\n",
            "42/42 [==============================] - ETA: 0s - loss: 0.0815 - acc: 0.9688\n",
            "Epoch 00017: ReduceLROnPlateau reducing learning rate to 3e-06.\n",
            "42/42 [==============================] - 49s 1s/step - loss: 0.0815 - acc: 0.9688 - val_loss: 0.0776 - val_acc: 0.9805\n",
            "Epoch 00017: early stopping\n"
          ],
          "name": "stdout"
        }
      ]
    },
    {
      "cell_type": "code",
      "metadata": {
        "id": "BR6D0RoryWgS",
        "colab_type": "code",
        "colab": {
          "base_uri": "https://localhost:8080/",
          "height": 368
        },
        "outputId": "85d1aded-1e50-43cd-f102-dd1d6688b3fc"
      },
      "source": [
        "import matplotlib.pyplot as plt\n",
        "\n",
        "fig, (ax1, ax2) = plt.subplots(1, 2, figsize=(20, 5))\n",
        "\n",
        "ax1.plot(hist.history['acc'])\n",
        "ax1.plot(hist.history['val_acc'])\n",
        "ax1.set_title('Model Accuracy')\n",
        "ax1.legend([\"Accuracy\", \"Validation Accuracy\"])\n",
        "\n",
        "ax2.plot(hist.history['loss'])\n",
        "ax2.plot(hist.history['val_loss'])\n",
        "ax2.set_title('Model Accuracy')\n",
        "ax2.legend([\"Loss\",\"Validation Loss\"])\n",
        "\n",
        "plt.tight_layout()"
      ],
      "execution_count": 19,
      "outputs": [
        {
          "output_type": "display_data",
          "data": {
            "image/png": "[encoded data removed]",
            "text/plain": [
              "<Figure size 1440x360 with 2 Axes>"
            ]
          },
          "metadata": {
            "tags": [],
            "needs_background": "light"
          }
        }
      ]
    },
    {
      "cell_type": "markdown",
      "metadata": {
        "id": "WqDT2bwsN_S5",
        "colab_type": "text"
      },
      "source": [
        "# PREDICT"
      ]
    },
    {
      "cell_type": "code",
      "metadata": {
        "id": "ROSyY7COOAf6",
        "colab_type": "code",
        "colab": {
          "resources": {
            "http://localhost:8080/nbextensions/google.colab/files.js": {
              "data": "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",
              "ok": true,
              "headers": [
                [
                  "content-type",
                  "application/javascript"
                ]
              ],
              "status": 200,
              "status_text": ""
            }
          },
          "base_uri": "https://localhost:8080/",
          "height": 355
        },
        "outputId": "54cf52aa-9020-430c-e295-480ae72351f1"
      },
      "source": [
        "import numpy as np\n",
        "from google.colab import files\n",
        "from keras.preprocessing import image\n",
        "import matplotlib.pyplot as plt\n",
        "import matplotlib.image as mpimg\n",
        "import matplotlib.pyplot as plt\n",
        "import matplotlib.image as mpimg\n",
        "%matplotlib inline\n",
        "\n",
        "uploaded = files.upload()\n",
        "\n",
        "for fn in uploaded.keys():\n",
        " \n",
        "  # predicting images\n",
        "  path = fn\n",
        "  img = image.load_img(path, target_size=(150,150))\n",
        "  imgplot = plt.imshow(img)\n",
        "  x = image.img_to_array(img)\n",
        "  x = np.expand_dims(x, axis=0)\n",
        "\n",
        "  images = np.vstack([x])\n",
        "  classes = model.predict(images, batch_size=10)\n",
        "  \n",
        "print(fn)\n",
        "if classes[0][0]==1:\n",
        "  print('paper')\n",
        "elif classes[0][1]==1:\n",
        "  print('rock')\n",
        "elif classes[0][2]==1:\n",
        "  print(\"scissor\")"
      ],
      "execution_count": 20,
      "outputs": [
        {
          "output_type": "display_data",
          "data": {
            "text/html": [
              "\n",
              "     <input type=\"file\" id=\"files-efa55230-039a-43e7-ac53-4beaa3e21b8f\" name=\"files[]\" multiple disabled\n",
              "        style=\"border:none\" />\n",
              "     <output id=\"result-efa55230-039a-43e7-ac53-4beaa3e21b8f\">\n",
              "      Upload widget is only available when the cell has been executed in the\n",
              "      current browser session. Please rerun this cell to enable.\n",
              "      </output>\n",
              "      <script src=\"/nbextensions/google.colab/files.js\"></script> "
            ],
            "text/plain": [
              "<IPython.core.display.HTML object>"
            ]
          },
          "metadata": {
            "tags": []
          }
        },
        {
          "output_type": "stream",
          "text": [
            "Saving photo_2020-08-31_12-40-22.jpg to photo_2020-08-31_12-40-22.jpg\n",
            "photo_2020-08-31_12-40-22.jpg\n",
            "scissor\n"
          ],
          "name": "stdout"
        },
        {
          "output_type": "display_data",
          "data": {
            "image/png": "[encoded data removed]",
            "text/plain": [
              "<Figure size 432x288 with 1 Axes>"
            ]
          },
          "metadata": {
            "tags": [],
            "needs_background": "light"
          }
        }
      ]
    },
    {
      "cell_type": "code",
      "metadata": {
        "id": "4S2fnlLVmKSb",
        "colab_type": "code",
        "colab": {
          "base_uri": "https://localhost:8080/",
          "height": 33
        },
        "outputId": "6d5b2fe7-410a-4fac-8761-228ecbdf655a"
      },
      "source": [
        "classes"
      ],
      "execution_count": 21,
      "outputs": [
        {
          "output_type": "execute_result",
          "data": {
            "text/plain": [
              "array([[0., 0., 1.]], dtype=float32)"
            ]
          },
          "metadata": {
            "tags": []
          },
          "execution_count": 21
        }
      ]
    }
  ]
}