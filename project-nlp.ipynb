{
  "nbformat": 4,
  "nbformat_minor": 0,
  "metadata": {
    "colab": {
      "name": "Muhammad Reza Giovanni - Submission 2 - NLP.ipynb",
      "provenance": [],
      "collapsed_sections": [
        "0tInY142-MQR",
        "u5KeR-Z1_2Vf",
        "EL1OGGS5SUZH",
        "dpSPTFSrDb8V",
        "zTV-Cyqz-SEx",
        "dJGmTVVqj_mb",
        "qrSQbxgRku2I",
        "hjKai54tm-Pn",
        "YczvGZ7Aidy5",
        "a-byDCZEN_4K"
      ],
      "toc_visible": true
    },
    "kernelspec": {
      "name": "python3",
      "display_name": "Python 3"
    }
  },
  "cells": [
    {
      "cell_type": "markdown",
      "metadata": {
        "id": "SGzMRf2xsdgg",
        "colab_type": "text"
      },
      "source": [
        "## NAMA : Muhammad Reza Giovanni\n",
        "## Subsmission 2 - NLP"
      ]
    },
    {
      "cell_type": "markdown",
      "metadata": {
        "id": "0tInY142-MQR",
        "colab_type": "text"
      },
      "source": [
        "## IMPORT DATASET"
      ]
    },
    {
      "cell_type": "code",
      "metadata": {
        "id": "EkLOXrz1OiWQ",
        "colab_type": "code",
        "colab": {}
      },
      "source": [
        "import tensorflow as tf\n",
        "import pandas as pd"
      ],
      "execution_count": 1,
      "outputs": []
    },
    {
      "cell_type": "code",
      "metadata": {
        "id": "q3AYqLEpzWdD",
        "colab_type": "code",
        "colab": {
          "base_uri": "https://localhost:8080/",
          "height": 0
        },
        "outputId": "3a37a2d8-913a-4a0b-8335-ff06d8db8e12"
      },
      "source": [
        "url = 'https://raw.githubusercontent.com/rezagiovanni/project-nlp/master/bbc-text.csv'\n",
        "df = pd.read_csv(url)\n",
        "print(df)"
      ],
      "execution_count": 2,
      "outputs": [
        {
          "output_type": "stream",
          "text": [
            "           category                                               text\n",
            "0              tech  tv future in the hands of viewers with home th...\n",
            "1          business  worldcom boss  left books alone  former worldc...\n",
            "2             sport  tigers wary of farrell  gamble  leicester say ...\n",
            "3             sport  yeading face newcastle in fa cup premiership s...\n",
            "4     entertainment  ocean s twelve raids box office ocean s twelve...\n",
            "...             ...                                                ...\n",
            "2220       business  cars pull down us retail figures us retail sal...\n",
            "2221       politics  kilroy unveils immigration policy ex-chatshow ...\n",
            "2222  entertainment  rem announce new glasgow concert us band rem h...\n",
            "2223       politics  how political squabbles snowball it s become c...\n",
            "2224          sport  souness delight at euro progress boss graeme s...\n",
            "\n",
            "[2225 rows x 2 columns]\n"
          ],
          "name": "stdout"
        }
      ]
    },
    {
      "cell_type": "code",
      "metadata": {
        "id": "MbxyYE7Fzh3G",
        "colab_type": "code",
        "colab": {
          "base_uri": "https://localhost:8080/",
          "height": 0
        },
        "outputId": "c7faad3f-4b65-4809-e8af-405364d33a45"
      },
      "source": [
        "df.isnull().sum()"
      ],
      "execution_count": 3,
      "outputs": [
        {
          "output_type": "execute_result",
          "data": {
            "text/plain": [
              "category    0\n",
              "text        0\n",
              "dtype: int64"
            ]
          },
          "metadata": {
            "tags": []
          },
          "execution_count": 3
        }
      ]
    },
    {
      "cell_type": "code",
      "metadata": {
        "id": "tJ2uQuKn62GA",
        "colab_type": "code",
        "colab": {
          "base_uri": "https://localhost:8080/",
          "height": 0
        },
        "outputId": "370b52bc-bc88-4582-9486-7056413556c4"
      },
      "source": [
        "df['category'].value_counts()"
      ],
      "execution_count": 4,
      "outputs": [
        {
          "output_type": "execute_result",
          "data": {
            "text/plain": [
              "sport            511\n",
              "business         510\n",
              "politics         417\n",
              "tech             401\n",
              "entertainment    386\n",
              "Name: category, dtype: int64"
            ]
          },
          "metadata": {
            "tags": []
          },
          "execution_count": 4
        }
      ]
    },
    {
      "cell_type": "markdown",
      "metadata": {
        "id": "u5KeR-Z1_2Vf",
        "colab_type": "text"
      },
      "source": [
        "## IMPORT STOPWORD, STEMMER AND DEFINE PUNCTS"
      ]
    },
    {
      "cell_type": "code",
      "metadata": {
        "id": "Rgl5TsTnABVK",
        "colab_type": "code",
        "colab": {
          "base_uri": "https://localhost:8080/",
          "height": 0
        },
        "outputId": "2ae6fbc9-1450-48e7-8824-43ef89b7a5c8"
      },
      "source": [
        "import nltk\n",
        "import re\n",
        "from nltk.corpus import stopwords\n",
        "from nltk.stem import WordNetLemmatizer\n",
        "from string import punctuation\n",
        "\n",
        "nltk.download('stopwords')\n",
        "nltk.download('wordnet')\n",
        "nltk.download('punkt')"
      ],
      "execution_count": 5,
      "outputs": [
        {
          "output_type": "stream",
          "text": [
            "[nltk_data] Downloading package stopwords to /root/nltk_data...\n",
            "[nltk_data]   Package stopwords is already up-to-date!\n",
            "[nltk_data] Downloading package wordnet to /root/nltk_data...\n",
            "[nltk_data]   Package wordnet is already up-to-date!\n",
            "[nltk_data] Downloading package punkt to /root/nltk_data...\n",
            "[nltk_data]   Package punkt is already up-to-date!\n"
          ],
          "name": "stdout"
        },
        {
          "output_type": "execute_result",
          "data": {
            "text/plain": [
              "True"
            ]
          },
          "metadata": {
            "tags": []
          },
          "execution_count": 5
        }
      ]
    },
    {
      "cell_type": "code",
      "metadata": {
        "id": "dQkNpIZ4AZ24",
        "colab_type": "code",
        "colab": {}
      },
      "source": [
        "sw = stopwords.words('english')\n",
        "lemmatizer = WordNetLemmatizer()"
      ],
      "execution_count": 6,
      "outputs": []
    },
    {
      "cell_type": "code",
      "metadata": {
        "id": "nZ7Hp6f8AEaA",
        "colab_type": "code",
        "colab": {
          "base_uri": "https://localhost:8080/",
          "height": 0
        },
        "outputId": "e4683190-25d4-4145-ac29-72aab79d7e29"
      },
      "source": [
        "nltk.download('wordnet')\n",
        "nltk.download('stopwords')\n",
        "\n",
        "signs = list(punctuation) # special characters \n",
        "stop_word = list(stopwords.words('english')) # stop words like `a,an,the,or,at` etc\n",
        "wordnet_lemmatizer = WordNetLemmatizer() # make the word cooking,cooks,cooked -> cook (in ideal case)"
      ],
      "execution_count": 7,
      "outputs": [
        {
          "output_type": "stream",
          "text": [
            "[nltk_data] Downloading package wordnet to /root/nltk_data...\n",
            "[nltk_data]   Package wordnet is already up-to-date!\n",
            "[nltk_data] Downloading package stopwords to /root/nltk_data...\n",
            "[nltk_data]   Package stopwords is already up-to-date!\n"
          ],
          "name": "stdout"
        }
      ]
    },
    {
      "cell_type": "markdown",
      "metadata": {
        "id": "EL1OGGS5SUZH",
        "colab_type": "text"
      },
      "source": [
        "## DEFINE FUNCTION FOR TEXT-PREPROCESSING"
      ]
    },
    {
      "cell_type": "code",
      "metadata": {
        "id": "PBxgyenjBFsj",
        "colab_type": "code",
        "colab": {}
      },
      "source": [
        "def clean_articles(df):\n",
        "\n",
        "    #REPLACING    \n",
        "    df['text'] = df['text'].str.replace(\"\\r\", \" \")\n",
        "    df['text'] = df['text'].str.replace(\"\\n\", \" \")\n",
        "    df['text'] = df['text'].str.replace(\"    \", \" \")\n",
        "    df['text'] = df['text'].str.replace('\"', '')\n",
        "    df['text'] = df['text'].str.lower()  \n",
        "    for sign in signs:\n",
        "        df['text'] = df['text'].str.replace(sign, '')\n",
        "    df['text'] = df['text'].str.replace(\"'s\", \"\")\n",
        "\n",
        "    #LEMMATIZER\n",
        "    nrows = len(df)\n",
        "    lemmatized_text_list = []\n",
        "    for row in range(nrows):\n",
        "        lemmatized_list = [] \n",
        "        text = df.loc[row]['text'] \n",
        "        text_words = text.split(\" \")\n",
        "        for word in text_words:  \n",
        "            lemmatized_list.append(wordnet_lemmatizer.lemmatize(word, pos=\"v\"))\n",
        "        lemmatized_text = \" \".join(lemmatized_list)  \n",
        "        lemmatized_text_list.append(lemmatized_text) \n",
        "    df['text'] = lemmatized_text_list\n",
        "    \n",
        "    #REMOVING STOPWORDS\n",
        "    for stop_woord in stop_word:\n",
        "        re_sw = r\"\\b\" + stop_woord + r\"\\b\"\n",
        "        df['text'] = df['text'].str.replace(re_sw, '')"
      ],
      "execution_count": 8,
      "outputs": []
    },
    {
      "cell_type": "markdown",
      "metadata": {
        "id": "dpSPTFSrDb8V",
        "colab_type": "text"
      },
      "source": [
        "## CLEANING TEXTS"
      ]
    },
    {
      "cell_type": "code",
      "metadata": {
        "id": "iR5VOPTPDZzl",
        "colab_type": "code",
        "colab": {}
      },
      "source": [
        "clean_articles(df)"
      ],
      "execution_count": 9,
      "outputs": []
    },
    {
      "cell_type": "code",
      "metadata": {
        "id": "I-Iz-o-rDzrh",
        "colab_type": "code",
        "colab": {
          "base_uri": "https://localhost:8080/",
          "height": 0
        },
        "outputId": "298a3535-3f09-4ad3-9132-1b2953efac4f"
      },
      "source": [
        "print(df)"
      ],
      "execution_count": 10,
      "outputs": [
        {
          "output_type": "stream",
          "text": [
            "           category                                               text\n",
            "0              tech  tv future   hand  viewers  home theatre system...\n",
            "1          business  worldcom boss  leave book alone  former worldc...\n",
            "2             sport  tigers wary  farrell  gamble  leicester say   ...\n",
            "3             sport  yeading face newcastle  fa cup premiership sid...\n",
            "4     entertainment  ocean  twelve raid box office ocean  twelve   ...\n",
            "...             ...                                                ...\n",
            "2220       business  cars pull  us retail figure us retail sales fe...\n",
            "2221       politics  kilroy unveil immigration policy exchatshow ho...\n",
            "2222  entertainment  rem announce new glasgow concert us band rem  ...\n",
            "2223       politics   political squabble snowball   become commonpl...\n",
            "2224          sport  souness delight  euro progress boss graeme sou...\n",
            "\n",
            "[2225 rows x 2 columns]\n"
          ],
          "name": "stdout"
        }
      ]
    },
    {
      "cell_type": "markdown",
      "metadata": {
        "id": "zTV-Cyqz-SEx",
        "colab_type": "text"
      },
      "source": [
        "## SPLITTING CATEGORIES"
      ]
    },
    {
      "cell_type": "code",
      "metadata": {
        "id": "ZWGjndrXz6MQ",
        "colab_type": "code",
        "colab": {
          "base_uri": "https://localhost:8080/",
          "height": 0
        },
        "outputId": "1ddbb258-a619-4274-e225-c38132af8505"
      },
      "source": [
        "kategori = pd.get_dummies(df.category)\n",
        "df_baru = pd.concat([df, kategori], axis=1)\n",
        "df_baru = df_baru.drop(columns='category')\n",
        "df_baru"
      ],
      "execution_count": 11,
      "outputs": [
        {
          "output_type": "execute_result",
          "data": {
            "text/html": [
              "<div>\n",
              "<style scoped>\n",
              "    .dataframe tbody tr th:only-of-type {\n",
              "        vertical-align: middle;\n",
              "    }\n",
              "\n",
              "    .dataframe tbody tr th {\n",
              "        vertical-align: top;\n",
              "    }\n",
              "\n",
              "    .dataframe thead th {\n",
              "        text-align: right;\n",
              "    }\n",
              "</style>\n",
              "<table border=\"1\" class=\"dataframe\">\n",
              "  <thead>\n",
              "    <tr style=\"text-align: right;\">\n",
              "      <th></th>\n",
              "      <th>text</th>\n",
              "      <th>business</th>\n",
              "      <th>entertainment</th>\n",
              "      <th>politics</th>\n",
              "      <th>sport</th>\n",
              "      <th>tech</th>\n",
              "    </tr>\n",
              "  </thead>\n",
              "  <tbody>\n",
              "    <tr>\n",
              "      <th>0</th>\n",
              "      <td>tv future   hand  viewers  home theatre system...</td>\n",
              "      <td>0</td>\n",
              "      <td>0</td>\n",
              "      <td>0</td>\n",
              "      <td>0</td>\n",
              "      <td>1</td>\n",
              "    </tr>\n",
              "    <tr>\n",
              "      <th>1</th>\n",
              "      <td>worldcom boss  leave book alone  former worldc...</td>\n",
              "      <td>1</td>\n",
              "      <td>0</td>\n",
              "      <td>0</td>\n",
              "      <td>0</td>\n",
              "      <td>0</td>\n",
              "    </tr>\n",
              "    <tr>\n",
              "      <th>2</th>\n",
              "      <td>tigers wary  farrell  gamble  leicester say   ...</td>\n",
              "      <td>0</td>\n",
              "      <td>0</td>\n",
              "      <td>0</td>\n",
              "      <td>1</td>\n",
              "      <td>0</td>\n",
              "    </tr>\n",
              "    <tr>\n",
              "      <th>3</th>\n",
              "      <td>yeading face newcastle  fa cup premiership sid...</td>\n",
              "      <td>0</td>\n",
              "      <td>0</td>\n",
              "      <td>0</td>\n",
              "      <td>1</td>\n",
              "      <td>0</td>\n",
              "    </tr>\n",
              "    <tr>\n",
              "      <th>4</th>\n",
              "      <td>ocean  twelve raid box office ocean  twelve   ...</td>\n",
              "      <td>0</td>\n",
              "      <td>1</td>\n",
              "      <td>0</td>\n",
              "      <td>0</td>\n",
              "      <td>0</td>\n",
              "    </tr>\n",
              "    <tr>\n",
              "      <th>...</th>\n",
              "      <td>...</td>\n",
              "      <td>...</td>\n",
              "      <td>...</td>\n",
              "      <td>...</td>\n",
              "      <td>...</td>\n",
              "      <td>...</td>\n",
              "    </tr>\n",
              "    <tr>\n",
              "      <th>2220</th>\n",
              "      <td>cars pull  us retail figure us retail sales fe...</td>\n",
              "      <td>1</td>\n",
              "      <td>0</td>\n",
              "      <td>0</td>\n",
              "      <td>0</td>\n",
              "      <td>0</td>\n",
              "    </tr>\n",
              "    <tr>\n",
              "      <th>2221</th>\n",
              "      <td>kilroy unveil immigration policy exchatshow ho...</td>\n",
              "      <td>0</td>\n",
              "      <td>0</td>\n",
              "      <td>1</td>\n",
              "      <td>0</td>\n",
              "      <td>0</td>\n",
              "    </tr>\n",
              "    <tr>\n",
              "      <th>2222</th>\n",
              "      <td>rem announce new glasgow concert us band rem  ...</td>\n",
              "      <td>0</td>\n",
              "      <td>1</td>\n",
              "      <td>0</td>\n",
              "      <td>0</td>\n",
              "      <td>0</td>\n",
              "    </tr>\n",
              "    <tr>\n",
              "      <th>2223</th>\n",
              "      <td>political squabble snowball   become commonpl...</td>\n",
              "      <td>0</td>\n",
              "      <td>0</td>\n",
              "      <td>1</td>\n",
              "      <td>0</td>\n",
              "      <td>0</td>\n",
              "    </tr>\n",
              "    <tr>\n",
              "      <th>2224</th>\n",
              "      <td>souness delight  euro progress boss graeme sou...</td>\n",
              "      <td>0</td>\n",
              "      <td>0</td>\n",
              "      <td>0</td>\n",
              "      <td>1</td>\n",
              "      <td>0</td>\n",
              "    </tr>\n",
              "  </tbody>\n",
              "</table>\n",
              "<p>2225 rows × 6 columns</p>\n",
              "</div>"
            ],
            "text/plain": [
              "                                                   text  business  ...  sport  tech\n",
              "0     tv future   hand  viewers  home theatre system...         0  ...      0     1\n",
              "1     worldcom boss  leave book alone  former worldc...         1  ...      0     0\n",
              "2     tigers wary  farrell  gamble  leicester say   ...         0  ...      1     0\n",
              "3     yeading face newcastle  fa cup premiership sid...         0  ...      1     0\n",
              "4     ocean  twelve raid box office ocean  twelve   ...         0  ...      0     0\n",
              "...                                                 ...       ...  ...    ...   ...\n",
              "2220  cars pull  us retail figure us retail sales fe...         1  ...      0     0\n",
              "2221  kilroy unveil immigration policy exchatshow ho...         0  ...      0     0\n",
              "2222  rem announce new glasgow concert us band rem  ...         0  ...      0     0\n",
              "2223   political squabble snowball   become commonpl...         0  ...      0     0\n",
              "2224  souness delight  euro progress boss graeme sou...         0  ...      1     0\n",
              "\n",
              "[2225 rows x 6 columns]"
            ]
          },
          "metadata": {
            "tags": []
          },
          "execution_count": 11
        }
      ]
    },
    {
      "cell_type": "code",
      "metadata": {
        "id": "W593VJ8ESspT",
        "colab_type": "code",
        "colab": {}
      },
      "source": [
        "x = df_baru['text']\n",
        "y = df_baru[['business','entertainment','politics','sport','tech']]"
      ],
      "execution_count": 12,
      "outputs": []
    },
    {
      "cell_type": "markdown",
      "metadata": {
        "id": "dJGmTVVqj_mb",
        "colab_type": "text"
      },
      "source": [
        "## SPLIT DATASET INTO TRAIN AND TEST"
      ]
    },
    {
      "cell_type": "code",
      "metadata": {
        "id": "gbZPhtHnj6EE",
        "colab_type": "code",
        "colab": {}
      },
      "source": [
        "from sklearn.model_selection import train_test_split"
      ],
      "execution_count": 13,
      "outputs": []
    },
    {
      "cell_type": "code",
      "metadata": {
        "id": "9tFzWKdZkblX",
        "colab_type": "code",
        "colab": {}
      },
      "source": [
        "x_train, x_test, y_train, y_test = train_test_split(x, y, test_size=0.2, random_state = 0)"
      ],
      "execution_count": 14,
      "outputs": []
    },
    {
      "cell_type": "markdown",
      "metadata": {
        "id": "qrSQbxgRku2I",
        "colab_type": "text"
      },
      "source": [
        "## TOKENIZING"
      ]
    },
    {
      "cell_type": "code",
      "metadata": {
        "id": "GfdG24rHmVdM",
        "colab_type": "code",
        "colab": {}
      },
      "source": [
        "from tensorflow.keras.preprocessing import text, sequence\n",
        "from tensorflow.keras.preprocessing.sequence import pad_sequences"
      ],
      "execution_count": 15,
      "outputs": []
    },
    {
      "cell_type": "code",
      "metadata": {
        "id": "kFhjzi9kktIg",
        "colab_type": "code",
        "colab": {}
      },
      "source": [
        "tokenize = text.Tokenizer(num_words = 1000)\n",
        "tokenize.fit_on_texts(x_train)\n",
        " \n",
        "x_train = tokenize.texts_to_sequences(x_train)\n",
        "x_test = tokenize.texts_to_sequences(x_test)\n",
        "\n",
        "x_train=pad_sequences(x_train, maxlen = 300)\n",
        "x_test=pad_sequences(x_test , maxlen= 300)"
      ],
      "execution_count": 16,
      "outputs": []
    },
    {
      "cell_type": "markdown",
      "metadata": {
        "id": "hjKai54tm-Pn",
        "colab_type": "text"
      },
      "source": [
        "## THE MODEL"
      ]
    },
    {
      "cell_type": "code",
      "metadata": {
        "id": "sVKX_-ScnpPn",
        "colab_type": "code",
        "colab": {}
      },
      "source": [
        "from tensorflow.keras.models import Sequential\n",
        "from tensorflow.keras.layers import  Dense, Activation, Dropout, Bidirectional, Embedding, LSTM, GlobalMaxPool1D"
      ],
      "execution_count": 17,
      "outputs": []
    },
    {
      "cell_type": "code",
      "metadata": {
        "id": "Ov8ecLzJpdTA",
        "colab_type": "code",
        "colab": {}
      },
      "source": [
        "model = Sequential()\n",
        "model.add(Embedding(input_dim = 1000, output_dim = 150, input_length = 300))\n",
        "model.add(LSTM(64, recurrent_dropout = 0.5, return_sequences = False))\n",
        "model.add(Dense(48, activation = 'relu'))\n",
        "model.add(Dropout(0.2))\n",
        "model.add(Dense(5, activation = 'softmax'))"
      ],
      "execution_count": 18,
      "outputs": []
    },
    {
      "cell_type": "markdown",
      "metadata": {
        "id": "YczvGZ7Aidy5",
        "colab_type": "text"
      },
      "source": [
        "## THE CALLBACKS"
      ]
    },
    {
      "cell_type": "code",
      "metadata": {
        "id": "Fy_VFd-4ic8j",
        "colab_type": "code",
        "colab": {}
      },
      "source": [
        "from tensorflow.keras.callbacks import EarlyStopping, Callback"
      ],
      "execution_count": 19,
      "outputs": []
    },
    {
      "cell_type": "code",
      "metadata": {
        "id": "LZnNty49izOZ",
        "colab_type": "code",
        "colab": {}
      },
      "source": [
        "earlystop = EarlyStopping(monitor='val_loss', \n",
        "                          patience=2, \n",
        "                          )"
      ],
      "execution_count": 20,
      "outputs": []
    },
    {
      "cell_type": "code",
      "metadata": {
        "id": "rj2mAGFmj3hm",
        "colab_type": "code",
        "colab": {}
      },
      "source": [
        "# on_epoch_end CallBack\n",
        "class myCallback(tf.keras.callbacks.Callback):\n",
        "  def on_epoch_end(self, epoch, logs={}):\n",
        "    if((logs.get('accuracy')>0.98) and (logs.get('val_loss')<=0.1)): \n",
        "      print(\" \")\n",
        "      print(\"(Akurasi > 98%) dan (val_loss <= 10%), maka training dihentikan\")\n",
        "      self.model.stop_training = True\n",
        "\n",
        "oee_callback = myCallback()"
      ],
      "execution_count": 21,
      "outputs": []
    },
    {
      "cell_type": "code",
      "metadata": {
        "id": "3KQBBvuxj8Bc",
        "colab_type": "code",
        "colab": {}
      },
      "source": [
        "callback = [oee_callback, earlystop]"
      ],
      "execution_count": 22,
      "outputs": []
    },
    {
      "cell_type": "markdown",
      "metadata": {
        "id": "a-byDCZEN_4K",
        "colab_type": "text"
      },
      "source": [
        "## COMPILE"
      ]
    },
    {
      "cell_type": "code",
      "metadata": {
        "id": "MfwAQyTkOCWH",
        "colab_type": "code",
        "colab": {
          "base_uri": "https://localhost:8080/",
          "height": 0
        },
        "outputId": "ceea249a-c2ef-48f3-f3d0-3d3202d29717"
      },
      "source": [
        "model.compile(loss='categorical_crossentropy', \n",
        "              optimizer='adam', \n",
        "              metrics=['accuracy'])\n",
        " \n",
        "model.summary()"
      ],
      "execution_count": 23,
      "outputs": [
        {
          "output_type": "stream",
          "text": [
            "Model: \"sequential\"\n",
            "_________________________________________________________________\n",
            "Layer (type)                 Output Shape              Param #   \n",
            "=================================================================\n",
            "embedding (Embedding)        (None, 300, 150)          150000    \n",
            "_________________________________________________________________\n",
            "lstm (LSTM)                  (None, 64)                55040     \n",
            "_________________________________________________________________\n",
            "dense (Dense)                (None, 48)                3120      \n",
            "_________________________________________________________________\n",
            "dropout (Dropout)            (None, 48)                0         \n",
            "_________________________________________________________________\n",
            "dense_1 (Dense)              (None, 5)                 245       \n",
            "=================================================================\n",
            "Total params: 208,405\n",
            "Trainable params: 208,405\n",
            "Non-trainable params: 0\n",
            "_________________________________________________________________\n"
          ],
          "name": "stdout"
        }
      ]
    },
    {
      "cell_type": "markdown",
      "metadata": {
        "id": "MmOKw_GJn7ho",
        "colab_type": "text"
      },
      "source": [
        "## FIT"
      ]
    },
    {
      "cell_type": "code",
      "metadata": {
        "id": "gDDhAMffn1YD",
        "colab_type": "code",
        "colab": {
          "base_uri": "https://localhost:8080/",
          "height": 342
        },
        "outputId": "bad0c658-f535-4a20-9f74-02478690f2be"
      },
      "source": [
        "batch_size = 64\n",
        "epochs = 10    \n",
        "hist = model.fit(x_train, \n",
        "                 y_train, \n",
        "                 batch_size = batch_size, \n",
        "                 epochs = epochs,\n",
        "                 validation_data = (x_test,y_test),\n",
        "                 verbose = 1,\n",
        "                 callbacks = callback,\n",
        "                 validation_split=0.2\n",
        "                 )"
      ],
      "execution_count": 24,
      "outputs": [
        {
          "output_type": "stream",
          "text": [
            "Epoch 1/10\n",
            "23/23 [==============================] - 12s 520ms/step - loss: 1.5835 - accuracy: 0.3406 - val_loss: 1.5016 - val_accuracy: 0.3876\n",
            "Epoch 2/10\n",
            "23/23 [==============================] - 12s 506ms/step - loss: 1.2109 - accuracy: 0.4838 - val_loss: 1.0434 - val_accuracy: 0.5590\n",
            "Epoch 3/10\n",
            "23/23 [==============================] - 12s 507ms/step - loss: 0.8304 - accuracy: 0.6650 - val_loss: 0.7112 - val_accuracy: 0.7865\n",
            "Epoch 4/10\n",
            "23/23 [==============================] - 12s 515ms/step - loss: 0.4622 - accuracy: 0.8532 - val_loss: 0.5254 - val_accuracy: 0.8652\n",
            "Epoch 5/10\n",
            "23/23 [==============================] - 12s 521ms/step - loss: 0.3043 - accuracy: 0.8989 - val_loss: 0.5494 - val_accuracy: 0.8455\n",
            "Epoch 6/10\n",
            "23/23 [==============================] - 12s 515ms/step - loss: 0.1976 - accuracy: 0.9431 - val_loss: 0.4432 - val_accuracy: 0.8820\n",
            "Epoch 7/10\n",
            "23/23 [==============================] - 12s 516ms/step - loss: 0.1086 - accuracy: 0.9789 - val_loss: 0.4204 - val_accuracy: 0.9157\n",
            "Epoch 8/10\n",
            "23/23 [==============================] - 12s 525ms/step - loss: 0.0836 - accuracy: 0.9796 - val_loss: 0.3319 - val_accuracy: 0.9185\n",
            "Epoch 9/10\n",
            "23/23 [==============================] - 12s 520ms/step - loss: 0.0711 - accuracy: 0.9853 - val_loss: 0.3242 - val_accuracy: 0.9185\n",
            "Epoch 10/10\n",
            "23/23 [==============================] - 12s 520ms/step - loss: 0.0522 - accuracy: 0.9909 - val_loss: 0.3049 - val_accuracy: 0.9298\n"
          ],
          "name": "stdout"
        }
      ]
    },
    {
      "cell_type": "code",
      "metadata": {
        "id": "h1wrluq3C2BQ",
        "colab_type": "code",
        "colab": {
          "base_uri": "https://localhost:8080/",
          "height": 332
        },
        "outputId": "72e3d6d3-9c89-443d-e88c-e8b5183ba87a"
      },
      "source": [
        "import matplotlib.pyplot as plt\n",
        "\n",
        "fig, (ax1, ax2) = plt.subplots(1, 2, figsize=(20, 5))\n",
        "\n",
        "ax1.plot(hist.history['accuracy'])\n",
        "ax1.plot(hist.history['val_accuracy'])\n",
        "ax1.set_title('Model Accuracy')\n",
        "ax1.legend([\"Accuracy\", \"Validation Accuracy\"])\n",
        "\n",
        "ax2.plot(hist.history['loss'])\n",
        "ax2.plot(hist.history['val_loss'])\n",
        "ax2.set_title('Model Accuracy')\n",
        "ax2.legend([\"Loss\",\"Validation Loss\"])\n",
        "\n",
        "plt.tight_layout()"
      ],
      "execution_count": 25,
      "outputs": [
        {
          "output_type": "display_data",
          "data": {
            "image/png": "[encoded data removed]",
            "text/plain": [
              "<Figure size 1440x360 with 2 Axes>"
            ]
          },
          "metadata": {
            "tags": [],
            "needs_background": "light"
          }
        }
      ]
    }
  ]
}